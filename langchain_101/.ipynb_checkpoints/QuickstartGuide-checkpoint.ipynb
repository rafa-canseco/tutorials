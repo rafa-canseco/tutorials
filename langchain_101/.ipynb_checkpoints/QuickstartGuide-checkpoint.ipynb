{
 "cells": [
  {
   "cell_type": "markdown",
   "id": "8cbbf289-32ef-42a9-ae68-9535fd193bd4",
   "metadata": {},
   "source": [
    "# Quickstart Guide\n",
    "https://python.langchain.com/docs/get_started/quickstart\n",
    "\n"
   ]
  },
  {
   "cell_type": "code",
   "execution_count": 4,
   "id": "0b52cc32-3035-444c-b44a-8b5830b3f041",
   "metadata": {},
   "outputs": [],
   "source": [
    "%%capture\n",
    "!pip install langchain"
   ]
  },
  {
   "cell_type": "code",
   "execution_count": 5,
   "id": "f8bd73df-740d-49d8-b4c5-23f9faab2bf9",
   "metadata": {},
   "outputs": [],
   "source": [
    "%%capture\n",
    "!pip install openai"
   ]
  },
  {
   "cell_type": "code",
   "execution_count": 6,
   "id": "cfb85161-245f-4bc8-bf4b-9510193772c5",
   "metadata": {},
   "outputs": [],
   "source": [
    "import os\n",
    "os.environ[\"OPENAI_API_KEY=] = \"OPENAI_API_KEY\""
   ]
  },
  {
   "cell_type": "code",
   "execution_count": null,
   "id": "1b51db9a-7514-45a8-9718-9ab18f002d6c",
   "metadata": {},
   "outputs": [],
   "source": []
  }
 ],
 "metadata": {
  "kernelspec": {
   "display_name": "Python 3 (ipykernel)",
   "language": "python",
   "name": "python3"
  },
  "language_info": {
   "codemirror_mode": {
    "name": "ipython",
    "version": 3
   },
   "file_extension": ".py",
   "mimetype": "text/x-python",
   "name": "python",
   "nbconvert_exporter": "python",
   "pygments_lexer": "ipython3",
   "version": "3.10.10"
  }
 },
 "nbformat": 4,
 "nbformat_minor": 5
}
