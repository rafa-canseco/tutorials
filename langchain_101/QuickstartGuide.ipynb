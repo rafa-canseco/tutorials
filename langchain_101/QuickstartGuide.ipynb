{
 "cells": [
  {
   "cell_type": "markdown",
   "id": "8cbbf289-32ef-42a9-ae68-9535fd193bd4",
   "metadata": {},
   "source": [
    "# Quickstart Guide\n",
    "https://python.langchain.com/docs/get_started/quickstart"
   ]
  },
  {
   "cell_type": "code",
   "execution_count": 4,
   "id": "0b52cc32-3035-444c-b44a-8b5830b3f041",
   "metadata": {},
   "outputs": [],
   "source": [
    "%%capture\n",
    "!pip install langchain"
   ]
  },
  {
   "cell_type": "code",
   "execution_count": 5,
   "id": "f8bd73df-740d-49d8-b4c5-23f9faab2bf9",
   "metadata": {},
   "outputs": [],
   "source": [
    "%%capture\n",
    "!pip install openai"
   ]
  },
  {
   "cell_type": "code",
   "execution_count": 6,
   "id": "cfb85161-245f-4bc8-bf4b-9510193772c5",
   "metadata": {},
   "outputs": [],
   "source": [
    "import os\n",
    "os.environ[\"OPENAI_API_KEY\"] = \"...\""
   ]
  },
  {
   "cell_type": "code",
   "execution_count": 7,
   "id": "1b51db9a-7514-45a8-9718-9ab18f002d6c",
   "metadata": {},
   "outputs": [],
   "source": [
    "from langchain.llms import OpenAI"
   ]
  },
  {
   "cell_type": "code",
   "execution_count": 8,
   "id": "ae0d4a2b-4d3f-4ec8-97a5-66096d392997",
   "metadata": {},
   "outputs": [],
   "source": [
    "llm = OpenAI(temperature=0.75)"
   ]
  },
  {
   "cell_type": "code",
   "execution_count": 9,
   "id": "d592309f-931b-48aa-9d5e-6c555fb4b7cf",
   "metadata": {},
   "outputs": [
    {
     "name": "stdout",
     "output_type": "stream",
     "text": [
      "\n",
      "\n",
      "1. Italia\n",
      "2. Grecia\n",
      "3. España\n",
      "4. Francia\n",
      "5. Estados Unidos\n"
     ]
    }
   ],
   "source": [
    "text = \"Cuales son los 5 mejores destinos para comer pasta?\"\n",
    "print(llm(text))"
   ]
  },
  {
   "cell_type": "markdown",
   "id": "ebb835e2-328a-4cef-b431-04023109f2a1",
   "metadata": {},
   "source": [
    "# Prompt Templates: Maneja prompts para LLMs"
   ]
  },
  {
   "cell_type": "code",
   "execution_count": 10,
   "id": "b6e92a33",
   "metadata": {},
   "outputs": [],
   "source": [
    "from langchain.prompts import PromptTemplate"
   ]
  },
  {
   "cell_type": "code",
   "execution_count": 11,
   "id": "e59ad5c9-418b-4855-ad50-ea4fce177f44",
   "metadata": {},
   "outputs": [],
   "source": [
    "prompt = PromptTemplate(\n",
    "    input_variables=[\"food\"],\n",
    "    template=\"Cuales son los 5 mejores destinos para alguien que le gusta comer {food}?\",\n",
    ")"
   ]
  },
  {
   "cell_type": "code",
   "execution_count": 12,
   "id": "75274845-f8c1-4b22-9014-6e1adaf164c4",
   "metadata": {},
   "outputs": [
    {
     "name": "stdout",
     "output_type": "stream",
     "text": [
      "Cuales son los 5 mejores destinos para alguien que le gusta comer carne?\n"
     ]
    }
   ],
   "source": [
    "print(prompt.format(food=\"carne\"))"
   ]
  },
  {
   "cell_type": "code",
   "execution_count": 13,
   "id": "91933ec6-3eb1-46d7-a2b9-25a515c69b69",
   "metadata": {},
   "outputs": [
    {
     "name": "stdout",
     "output_type": "stream",
     "text": [
      "\n",
      "\n",
      "1. Estados Unidos: Estados Unidos ofrece una amplia variedad de platos de carne, incluyendo hamburguesas, perritos calientes, asado y barbacoa. \n",
      "\n",
      "2. Argentina: El asado argentino es famoso en todo el mundo, y es la mejor forma de disfrutar de la carne. \n",
      "\n",
      "3. Australia: Debido a su amplia gama de carnes de calidad y la cultura de la barbacoa, Australia es una excelente opción para aquellos que disfrutan de la carne.\n",
      "\n",
      "4. Brasil: Las brazas son un tipo de asado típico de Brasil, y se encuentran en los restaurantes de todo el país.\n",
      "\n",
      "5. Japón: El Wagyu japonés es una de las carnes más reconocidas en todo el mundo. Es una carne especialmente suave y sabrosa, y se sirve en restaurantes de todo el país.\n"
     ]
    }
   ],
   "source": [
    "print(llm(prompt.format(food=\"carne\")))"
   ]
  },
  {
   "cell_type": "markdown",
   "id": "9247fabf-d892-4ff8-ba64-b1d15567dee0",
   "metadata": {},
   "source": [
    "# Chains: Combina LLMs y prompts para secuenciar llamadas"
   ]
  },
  {
   "cell_type": "code",
   "execution_count": 14,
   "id": "c2c245cc-69af-4e30-aac8-555d1d7af342",
   "metadata": {},
   "outputs": [],
   "source": [
    "from langchain.prompts import PromptTemplate\n",
    "from langchain.llms import OpenAI\n",
    "from langchain.chains import LLMChain"
   ]
  },
  {
   "cell_type": "code",
   "execution_count": 15,
   "id": "f18412f3-d8c5-4aa7-862c-02834a0b9f32",
   "metadata": {},
   "outputs": [],
   "source": [
    "llm = OpenAI(temperature=1.0)\n",
    "\n",
    "prompt =PromptTemplate(\n",
    "    input_variables=[\"food\"],\n",
    "    template=\"Cuales son los 5 mejores destinos para alguien que le gusta comer {food}?\",\n",
    ")"
   ]
  },
  {
   "cell_type": "code",
   "execution_count": 16,
   "id": "f7b1ac6e-6951-45cf-ad42-51cd8a842b81",
   "metadata": {},
   "outputs": [],
   "source": [
    "chain = LLMChain(llm=llm,prompt=prompt)"
   ]
  },
  {
   "cell_type": "code",
   "execution_count": 17,
   "id": "5afd1df9-daef-41d2-9dac-a99718206945",
   "metadata": {},
   "outputs": [
    {
     "name": "stdout",
     "output_type": "stream",
     "text": [
      "\n",
      "\n",
      "1. Costa Rica: Costa Rica ofrece una gran variedad de frutas tropicales exóticas, incluyendo manzanas, plátanos, mangos, piñas y guanábanas.\n",
      "\n",
      "2. Australia: Como uno de los países con mayor concentración de diversidad de frutas naturales, la variedad de frutas que se puede encontrar en Australia es impresionante. Desde el famoso mango de la región tropical hasta las nueces de macadamia del sur de la isla, hay frutas para todos los gustos.\n",
      "\n",
      "3. Sudáfrica: La región del Cabo siempre es un buen destino para los amantes de la fruta. Encontrarás todo lo que necesitas para salir de la rutina con frutas exóticas como la guava sub-ácida sudafricana, fresas salteadas con canela, mango asado al fuego y plátanos con queso crema y almendras.\n"
     ]
    }
   ],
   "source": [
    "print(chain.run(\"frutas\"))"
   ]
  },
  {
   "cell_type": "markdown",
   "id": "33ff1a3b-f550-489c-8b13-582c594999c7",
   "metadata": {},
   "source": [
    "# Agentes: llamadas dinámicas a cadenas basadas en el input del user"
   ]
  },
  {
   "cell_type": "code",
   "execution_count": null,
   "id": "e09392b3-850c-4156-81ef-85ca2c52c0c0",
   "metadata": {},
   "outputs": [],
   "source": [
    "!pip install wikipedia"
   ]
  },
  {
   "cell_type": "code",
   "execution_count": 19,
   "id": "4fbd9d0c-188b-47b4-a7ee-4479cb7d73a8",
   "metadata": {},
   "outputs": [],
   "source": [
    "from langchain.agents import load_tools\n",
    "from langchain.agents import initialize_agent\n",
    "from langchain.llms import OpenAI\n",
    "from langchain.utilities import WikipediaAPIWrapper"
   ]
  },
  {
   "cell_type": "code",
   "execution_count": 20,
   "id": "d9e420a3-45ed-49e5-831c-6642357ef89e",
   "metadata": {},
   "outputs": [],
   "source": [
    "#Carga el modelo\n",
    "llm = OpenAI(temperature=0)\n",
    "wikipedia = WikipediaAPIWrapper()"
   ]
  },
  {
   "cell_type": "code",
   "execution_count": 21,
   "id": "5b8c2565-5f9d-4e96-95e5-fe21d44a0da5",
   "metadata": {},
   "outputs": [],
   "source": [
    "#Carga las herramientas\n",
    "tool_names = [\"wikipedia\",\"llm-math\"]\n",
    "tools = load_tools(tool_names,wikipedia=wikipedia,llm=llm)"
   ]
  },
  {
   "cell_type": "code",
   "execution_count": 22,
   "id": "c77dce4e-e0b3-4e87-8f7f-a2355f436e83",
   "metadata": {},
   "outputs": [],
   "source": [
    "# Inicializa el agente con:\n",
    "#1.-Las herramientas\n",
    "#2.-El llm\n",
    "#3.-El tipo de agente que queremos utilizar\n",
    "\n",
    "agent = initialize_agent(tools,llm,agent=\"zero-shot-react-description\",verbose=True)"
   ]
  },
  {
   "cell_type": "markdown",
   "id": "c291b595-c583-4b34-b3fa-3d31bf3341ea",
   "metadata": {},
   "source": [
    "##### Distintos tipos de agentes https://python.langchain.com/docs/modules/agents/agent_types/"
   ]
  },
  {
   "cell_type": "code",
   "execution_count": 23,
   "id": "0e88ede2-81d3-4693-8dc5-611cc9cb3206",
   "metadata": {},
   "outputs": [
    {
     "name": "stdout",
     "output_type": "stream",
     "text": [
      "\n",
      "\n",
      "\u001b[1m> Entering new  chain...\u001b[0m\n",
      "\u001b[32;1m\u001b[1;3m I need to find out who Lebron James is and then calculate his year of birth minus 20.\n",
      "Action: Wikipedia\n",
      "Action Input: Lebron James\u001b[0m\n",
      "Observation: \u001b[36;1m\u001b[1;3mPage: LeBron James\n",
      "Summary: LeBron Raymone James Sr. ( lə-BRON; born December 30, 1984) is an American professional basketball player for the Los Angeles Lakers of the National Basketball Association (NBA).  Nicknamed \"King James\", he is widely regarded as one of the greatest players in the history of the sport and is often compared to Michael Jordan in debates over the greatest basketball player of all time. James is the all-time leading scorer in NBA history and ranks fourth in career assists. He has won four NBA championships (two with the Miami Heat, one each with the Lakers and Cleveland Cavaliers), and has competed in 10 NBA Finals, including eight consecutive Finals appearances from 2011 to 2018. He has also won four Most Valuable Player (MVP) Awards, four Finals MVP Awards, and two Olympic gold medals, and has been named an All-Star 19 times, selected to the All-NBA Team 19 times (including 13 First Team selections) and the All-Defensive Team six times, and was a runner-up for the NBA Defensive Player of the Year Award twice in his career.James grew up playing basketball for St. Vincent–St. Mary High School in his hometown of Akron, Ohio. He was heavily touted by the national media as a future NBA superstar for his all-around scoring, passing, athleticism and playmaking abilities. A prep-to-pro, he was selected by the Cleveland Cavaliers with the first overall pick of the 2003 NBA draft. Named the 2004 NBA Rookie of the Year, he soon established himself as one of the league's premier players, leading the Cavaliers to their first NBA Finals appearance in 2007 and winning the NBA MVP award in 2009 and 2010. After failing to win a championship with Cleveland, James left in 2010 as a free agent to join the Miami Heat; this was announced in a nationally televised special titled The Decision and is among the most controversial free agency moves in sports history.James won his first two NBA championships while playing for the Heat in 2012 and 2013; in both of these years, he also earned the league's MVP and Finals MVP awards. After his fourth season with the Heat in 2014, James opted out of his contract and re-signed with the Cavaliers. In 2016, he led the Cavaliers to victory over the Golden State Warriors in the Finals by coming back from a 3–1 deficit, delivering the team's first championship and ending the Cleveland sports curse. In 2018, James exercised his contract option to leave the Cavaliers and signed with the Lakers, where he won the 2020 NBA championship and his fourth Finals MVP. James is the first player in NBA history to accumulate $1 billion in earnings as an active player. He is the Association's only 'youngest player' and (later) 'oldest player' to take the court in its history. On February 7, 2023, James surpassed Kareem Abdul-Jabbar to become the leading scorer in league history.\n",
      "Off the court, James has accumulated more wealth and fame from numerous endorsement contracts. He has been featured in books, documentaries (including winning three Sports Emmy Awards as an executive producer), and television commercials. He has won 20 ESPY Awards, hosted Saturday Night Live, and starred in the sports film Space Jam: A New Legacy (2021). James has been a part-owner of Liverpool F.C. since 2011 and leads the LeBron James Family Foundation, which has opened an elementary school, housing complex, retail plaza, and medical center in Akron.\n",
      "\n",
      "Page: Bronny James\n",
      "Summary: LeBron Raymone \"Bronny\" James Jr. (born October 6, 2004) is an American college basketball player for the USC Trojans of the Pac-12 Conference. A consensus four-star recruit, he was named a McDonald's All-American as a senior in high school in 2023. James is the eldest child of professional basketball player LeBron James.\n",
      "\n",
      "Page: Bryce James\n",
      "Summary: Bryce Maximus James (born June 14, 2007) is an American basketball player. He is the second child of National Basketball Association (NBA) player LeBron James and the younger brother of basketball player Bron\u001b[0m\n",
      "Thought:\u001b[32;1m\u001b[1;3m I now know the year of birth of Lebron James\n",
      "Action: Calculator\n",
      "Action Input: 1984 - 20\u001b[0m\n",
      "Observation: \u001b[33;1m\u001b[1;3mAnswer: 1964\u001b[0m\n",
      "Thought:\u001b[32;1m\u001b[1;3m I now know the final answer\n",
      "Final Answer: Lebron James nació en 1984, lo que significa que su año de nacimiento menos 20 es 1964.\u001b[0m\n",
      "\n",
      "\u001b[1m> Finished chain.\u001b[0m\n"
     ]
    },
    {
     "data": {
      "text/plain": [
       "'Lebron James nació en 1984, lo que significa que su año de nacimiento menos 20 es 1964.'"
      ]
     },
     "execution_count": 23,
     "metadata": {},
     "output_type": "execute_result"
    }
   ],
   "source": [
    "agent.run(\"Quien es lebron james?, cual es el resultado de su año de nacimiento menos 20?\")"
   ]
  },
  {
   "cell_type": "markdown",
   "id": "3bf5c38e-72d3-4e5d-8ef5-6b2d0dffef47",
   "metadata": {},
   "source": [
    "# Memoria: Agrega un estado a las cadenas y a los agentes"
   ]
  },
  {
   "cell_type": "code",
   "execution_count": 24,
   "id": "6f064898-1e56-45ae-9a73-2e0daccc426e",
   "metadata": {},
   "outputs": [],
   "source": [
    "from langchain import OpenAI,ConversationChain"
   ]
  },
  {
   "cell_type": "code",
   "execution_count": 25,
   "id": "323ddedf-1c94-4527-b7c0-aff12786af32",
   "metadata": {},
   "outputs": [],
   "source": [
    "llm = OpenAI(temperature=0)\n",
    "conversation = ConversationChain(llm=llm,verbose=True)"
   ]
  },
  {
   "cell_type": "code",
   "execution_count": 26,
   "id": "21e3f962-8d14-45cf-8a58-493db6c96fbc",
   "metadata": {},
   "outputs": [
    {
     "name": "stdout",
     "output_type": "stream",
     "text": [
      "\n",
      "\n",
      "\u001b[1m> Entering new  chain...\u001b[0m\n",
      "Prompt after formatting:\n",
      "\u001b[32;1m\u001b[1;3mThe following is a friendly conversation between a human and an AI. The AI is talkative and provides lots of specific details from its context. If the AI does not know the answer to a question, it truthfully says it does not know.\n",
      "\n",
      "Current conversation:\n",
      "\n",
      "Human: Hola! como te va?\n",
      "AI:\u001b[0m\n",
      "\n",
      "\u001b[1m> Finished chain.\u001b[0m\n"
     ]
    },
    {
     "data": {
      "text/plain": [
       "' Hola! Me va muy bien, gracias por preguntar. ¿Y a ti?'"
      ]
     },
     "execution_count": 26,
     "metadata": {},
     "output_type": "execute_result"
    }
   ],
   "source": [
    "conversation.predict(input=\"Hola! como te va?\")"
   ]
  },
  {
   "cell_type": "code",
   "execution_count": 27,
   "id": "f6a523c9-1775-40ff-9831-a134e845aae2",
   "metadata": {},
   "outputs": [
    {
     "name": "stdout",
     "output_type": "stream",
     "text": [
      "\n",
      "\n",
      "\u001b[1m> Entering new  chain...\u001b[0m\n",
      "Prompt after formatting:\n",
      "\u001b[32;1m\u001b[1;3mThe following is a friendly conversation between a human and an AI. The AI is talkative and provides lots of specific details from its context. If the AI does not know the answer to a question, it truthfully says it does not know.\n",
      "\n",
      "Current conversation:\n",
      "Human: Hola! como te va?\n",
      "AI:  Hola! Me va muy bien, gracias por preguntar. ¿Y a ti?\n",
      "Human: Muy bien, gracias, estoy teniendo una conversación con una AI\n",
      "AI:\u001b[0m\n",
      "\n",
      "\u001b[1m> Finished chain.\u001b[0m\n"
     ]
    },
    {
     "data": {
      "text/plain": [
       "' ¡Qué interesante! ¿Qué quieres saber de mí?'"
      ]
     },
     "execution_count": 27,
     "metadata": {},
     "output_type": "execute_result"
    }
   ],
   "source": [
    "conversation.predict(input=\"Muy bien, gracias, estoy teniendo una conversación con una AI\")"
   ]
  },
  {
   "cell_type": "code",
   "execution_count": 28,
   "id": "6be69098-4f3c-4c55-9039-a23867492f7f",
   "metadata": {},
   "outputs": [
    {
     "name": "stdout",
     "output_type": "stream",
     "text": [
      "\n",
      "\n",
      "\u001b[1m> Entering new  chain...\u001b[0m\n",
      "Prompt after formatting:\n",
      "\u001b[32;1m\u001b[1;3mThe following is a friendly conversation between a human and an AI. The AI is talkative and provides lots of specific details from its context. If the AI does not know the answer to a question, it truthfully says it does not know.\n",
      "\n",
      "Current conversation:\n",
      "Human: Hola! como te va?\n",
      "AI:  Hola! Me va muy bien, gracias por preguntar. ¿Y a ti?\n",
      "Human: Muy bien, gracias, estoy teniendo una conversación con una AI\n",
      "AI:  ¡Qué interesante! ¿Qué quieres saber de mí?\n",
      "Human: Que fue lo primero que te dije?\n",
      "AI:\u001b[0m\n",
      "\n",
      "\u001b[1m> Finished chain.\u001b[0m\n"
     ]
    },
    {
     "data": {
      "text/plain": [
       "' Me dijiste \"Hola! ¿Cómo te va?\"'"
      ]
     },
     "execution_count": 28,
     "metadata": {},
     "output_type": "execute_result"
    }
   ],
   "source": [
    "conversation.predict(input=\"Que fue lo primero que te dije?\")"
   ]
  },
  {
   "cell_type": "code",
   "execution_count": 29,
   "id": "5ed83046-eacf-4932-929c-f1cadefd898b",
   "metadata": {},
   "outputs": [
    {
     "name": "stdout",
     "output_type": "stream",
     "text": [
      "\n",
      "\n",
      "\u001b[1m> Entering new  chain...\u001b[0m\n",
      "Prompt after formatting:\n",
      "\u001b[32;1m\u001b[1;3mThe following is a friendly conversation between a human and an AI. The AI is talkative and provides lots of specific details from its context. If the AI does not know the answer to a question, it truthfully says it does not know.\n",
      "\n",
      "Current conversation:\n",
      "Human: Hola! como te va?\n",
      "AI:  Hola! Me va muy bien, gracias por preguntar. ¿Y a ti?\n",
      "Human: Muy bien, gracias, estoy teniendo una conversación con una AI\n",
      "AI:  ¡Qué interesante! ¿Qué quieres saber de mí?\n",
      "Human: Que fue lo primero que te dije?\n",
      "AI:  Me dijiste \"Hola! ¿Cómo te va?\"\n",
      "Human: Cual sería una alternativa de la primer cosa que te dije?\n",
      "AI:\u001b[0m\n",
      "\n",
      "\u001b[1m> Finished chain.\u001b[0m\n"
     ]
    },
    {
     "data": {
      "text/plain": [
       "' Una alternativa a la primera cosa que me dijiste podría ser \"¡Hola! ¿Qué hay de nuevo?\"'"
      ]
     },
     "execution_count": 29,
     "metadata": {},
     "output_type": "execute_result"
    }
   ],
   "source": [
    "conversation.predict(input=\"Cual sería una alternativa de la primer cosa que te dije?\")"
   ]
  },
  {
   "cell_type": "code",
   "execution_count": null,
   "id": "fd60b7b8-4763-4218-b870-42208f5f3806",
   "metadata": {},
   "outputs": [],
   "source": []
  }
 ],
 "metadata": {
  "kernelspec": {
   "display_name": "Python 3 (ipykernel)",
   "language": "python",
   "name": "python3"
  },
  "language_info": {
   "codemirror_mode": {
    "name": "ipython",
    "version": 3
   },
   "file_extension": ".py",
   "mimetype": "text/x-python",
   "name": "python",
   "nbconvert_exporter": "python",
   "pygments_lexer": "ipython3",
   "version": "3.10.10"
  }
 },
 "nbformat": 4,
 "nbformat_minor": 5
}
