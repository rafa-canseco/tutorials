{
 "cells": [
  {
   "cell_type": "code",
   "execution_count": null,
   "id": "8afa6c65-e448-4e63-8bc7-e877945b2dca",
   "metadata": {},
   "outputs": [],
   "source": [
    "!pip install langchain;\n",
    "!pip install chromadb;\n",
    "!pip install tiktoken;"
   ]
  },
  {
   "cell_type": "code",
   "execution_count": 6,
   "id": "9c96be9e-09b5-44b6-96b7-f87c96243b84",
   "metadata": {},
   "outputs": [],
   "source": [
    "import os\n",
    "from langchain.llms import OpenAI\n",
    "from langchain.embeddings.openai import OpenAIEmbeddings\n",
    "from langchain.vectorstores.chroma import Chroma\n",
    "from langchain.text_splitter import CharacterTextSplitter\n",
    "from langchain.document_loaders import TextLoader\n",
    "from langchain.chains import RetrievalQA"
   ]
  },
  {
   "cell_type": "code",
   "execution_count": 7,
   "id": "365ce3af-6c47-4f37-a41d-3241bc4525e6",
   "metadata": {},
   "outputs": [],
   "source": [
    "os.environ['OPENAI_API_KEY'] = '...'"
   ]
  },
  {
   "cell_type": "code",
   "execution_count": 8,
   "id": "d00c5605-45a8-44ec-98ea-b979b13b2105",
   "metadata": {},
   "outputs": [],
   "source": [
    "loader = TextLoader('data/Blockchain.txt')"
   ]
  },
  {
   "cell_type": "code",
   "execution_count": null,
   "id": "325a3c44-b2bd-4213-a604-7cb43557dcb3",
   "metadata": {},
   "outputs": [],
   "source": [
    "documents = loader.load()\n",
    "documents"
   ]
  },
  {
   "cell_type": "code",
   "execution_count": 10,
   "id": "f5b90065-4bdc-4f4a-be24-712762ff43f7",
   "metadata": {},
   "outputs": [],
   "source": [
    "text_splitter = CharacterTextSplitter(chunk_size=5000,chunk_overlap=100)"
   ]
  },
  {
   "cell_type": "code",
   "execution_count": 11,
   "id": "9d18af87-0d4a-4978-8ceb-229feeb032d8",
   "metadata": {},
   "outputs": [],
   "source": [
    "texts=text_splitter.split_documents(documents)"
   ]
  },
  {
   "cell_type": "code",
   "execution_count": 12,
   "id": "7f512634-ea59-4901-87d5-190b0b59d7e0",
   "metadata": {},
   "outputs": [],
   "source": [
    "embeddings =OpenAIEmbeddings()"
   ]
  },
  {
   "cell_type": "code",
   "execution_count": 15,
   "id": "19f74bf1-4cbe-4957-971c-2fab1eb95230",
   "metadata": {},
   "outputs": [
    {
     "data": {
      "text/plain": [
       "<langchain.vectorstores.chroma.Chroma at 0x107b53a60>"
      ]
     },
     "execution_count": 15,
     "metadata": {},
     "output_type": "execute_result"
    }
   ],
   "source": [
    "db=Chroma.from_documents(texts,embeddings)"
   ]
  },
  {
   "cell_type": "code",
   "execution_count": 17,
   "id": "49e5d3a1-33c2-4b5d-8f2c-fccf1fde7229",
   "metadata": {},
   "outputs": [],
   "source": [
    "retriever = db.as_retriever(search_type=\"similarity\",search_kwargs={\"k\":2})"
   ]
  },
  {
   "cell_type": "code",
   "execution_count": 18,
   "id": "47e8ac1d-0b43-4251-a5e1-8d57ecbc9353",
   "metadata": {},
   "outputs": [],
   "source": [
    "qa = RetrievalQA.from_chain_type(llm=OpenAI(temperature=0),chain_type=\"stuff\",retriever=retriever,return_source_documents=True)"
   ]
  },
  {
   "cell_type": "code",
   "execution_count": 19,
   "id": "3a2b61b5-bbc7-4cc1-9c0a-358ed8f500ac",
   "metadata": {},
   "outputs": [],
   "source": [
    "query = \"Que se dice sobre la interoperabilidad?\""
   ]
  },
  {
   "cell_type": "code",
   "execution_count": 20,
   "id": "0737983a-23c9-4ab9-aab0-46f49cf50878",
   "metadata": {},
   "outputs": [],
   "source": [
    "result = qa({\"query\":query})"
   ]
  },
  {
   "cell_type": "code",
   "execution_count": 21,
   "id": "79b2a3d1-084d-484d-aa06-845d133f056e",
   "metadata": {},
   "outputs": [
    {
     "data": {
      "text/plain": [
       "' Se dice que la interoperabilidad es una arquitectura digital indispensable para el intercambio de datos y activos digitales en la digitalización del comercio, el comercio electrónico o los servicios de e-gobierno. También se dice que la interoperabilidad no puede resultar de los esfuerzos de una sola entidad, sino que requiere un grupo de gobierno formado por todos los interesados activos en este campo.'"
      ]
     },
     "execution_count": 21,
     "metadata": {},
     "output_type": "execute_result"
    }
   ],
   "source": [
    "result['result']"
   ]
  },
  {
   "cell_type": "code",
   "execution_count": 22,
   "id": "07c43319-43c3-4061-9944-230104b480ab",
   "metadata": {},
   "outputs": [
    {
     "data": {
      "text/plain": [
       "[Document(page_content='Blockchain Interoperability\\t\\t\\t\\t\\t                                        A Framework for Blockchain Interoperability\\n\\x0c     An interoperable digital architecture is now imperative for the exchange of data and digi-\\n     tal assets in the digitalization of trade, e-commerce, or e-government services. Interoper-\\n     ability also has direct implications on an organization’s business model and its strategic\\n     positioning to deliver value. Some technology providers initially might be less focused on\\n     interoperability issues, as each one would like to grab a larger part of the market, especially\\n     those reliant on network effects. The emergence of multiple new alternatives, in addition to\\n     legacy instruments, could result in further fragmentation rather than solving the challenges\\n     if the issues around standards and interoperability are not addressed through multi-stake-\\n     holder coordination. Interoperability cannot result from the efforts of a single entity, rather\\n     it requires a governance group made up of all stakeholders active in this field. This gover-\\n     nance group will administer and make decisions on business agreements, legal terms and\\n     technical feasibility. This group will also manage the data standard of interoperability, such\\n     as smart contract, entities and digital assets.23 This governance model could help to estab-\\n     lish a business partnership, which is not constricted by technological limitations.\\n\\n\\n     The Technology Perspective\\n          So far, the notion of chain interoperability has seen much theory and little practice,\\n          primarily because a live example of successful chain interoperability requires not one,\\n          but two, already existing, stable and sufficiently powerful blockchains to build off, but\\n          this is slowly starting to change. -Vitalik Buterin (2016).\\n18\\n     Technology Approaches\\n     Technically, blockchain interoperability seeks to achieve one fundamental goal, namely\\n     ensuring the integrity of both information exchanges (data exchange among business sys-\\n     tems) and value transfers (digital assets exchange, e.g. crypto, tokens). Internet protocols,\\n     such as TCP/IP and APIs, have set good examples of achieving data interoperability. How-\\n     ever, value transfer has been an application-layer concern, and not a protocol-level concern\\n     in the traditional Internet context. With blockchain becoming the “Internet of Value”,24 en-\\n     suring the integrity of value transfer across different blockchains has become a problem to\\n     address at the foundation layer, and also needs to be considered at the blockchain network\\n     protocol level as well. In addition, there are attempts to create interoperability among dif-\\n     ferent blockchains at the middleware level, e.g., blockchain-agnostic smart contracts, e.g.\\n     DAML by Digital Asset Holdings, or Quant Network’s multi-blockchain DApps (MApps).\\n\\n\\n     23   \\x07Inclusive Deployment of Blockchain for Supply Chains: Part 6 – A Framework for Blockchain Interoperability:\\n          http://www3.weforum.org/docs/WEF_A_Framework_for_Blockchain_Interoperability_2020.pdf\\n     24   Ripple. 2019. “The Internet of Value: What It Means and How It Benefits Everyone.” October 25. Available at :\\n          \\x07\\n          https://ripple.com/insights/the-internet-of-value-what-it-means-and-how-it-benefits-everyone/.\\n\\n\\n     WBG ITS Technology & Innovation Lab\\n\\x0cBelow are some popular technical means for achieving blockchain interoperability:\\n\\n 1. Oracles and Notaries\\n Oracles and notaries are trusted agents between different blockchains, or between a\\n blockchain and the off-chain world. To achieve better resiliency and to increase trust, or-\\n acles can adopt a decentralized architecture in the same manner as Chainlink.\\n\\n In a notary scheme, one or more trusted nodes agree to carry out an action on chain B\\n when some event on chain A happens (Buterin, 2016). Trusted nodes are the key to no-\\n tary schemes. One important feature of the notary scheme is its atomicity, meaning that\\n a transaction needs to be all or nothing for all participants. The notary scheme has been\\n implemented in the Atomic mode of the Interledger Protocol25 , whereby an ad hoc group\\n of notaries are selected to support the execution of each payment by confirming the suc-\\n cess or failure of the payment.', metadata={'source': 'data/Blockchain.txt'}),\n",
       " Document(page_content='Blockchain Interoperability\\t\\t\\t\\t\\t                                        A Framework for Blockchain Interoperability\\n\\x0c     An interoperable digital architecture is now imperative for the exchange of data and digi-\\n     tal assets in the digitalization of trade, e-commerce, or e-government services. Interoper-\\n     ability also has direct implications on an organization’s business model and its strategic\\n     positioning to deliver value. Some technology providers initially might be less focused on\\n     interoperability issues, as each one would like to grab a larger part of the market, especially\\n     those reliant on network effects. The emergence of multiple new alternatives, in addition to\\n     legacy instruments, could result in further fragmentation rather than solving the challenges\\n     if the issues around standards and interoperability are not addressed through multi-stake-\\n     holder coordination. Interoperability cannot result from the efforts of a single entity, rather\\n     it requires a governance group made up of all stakeholders active in this field. This gover-\\n     nance group will administer and make decisions on business agreements, legal terms and\\n     technical feasibility. This group will also manage the data standard of interoperability, such\\n     as smart contract, entities and digital assets.23 This governance model could help to estab-\\n     lish a business partnership, which is not constricted by technological limitations.\\n\\n\\n     The Technology Perspective\\n          So far, the notion of chain interoperability has seen much theory and little practice,\\n          primarily because a live example of successful chain interoperability requires not one,\\n          but two, already existing, stable and sufficiently powerful blockchains to build off, but\\n          this is slowly starting to change. -Vitalik Buterin (2016).\\n18\\n     Technology Approaches\\n     Technically, blockchain interoperability seeks to achieve one fundamental goal, namely\\n     ensuring the integrity of both information exchanges (data exchange among business sys-\\n     tems) and value transfers (digital assets exchange, e.g. crypto, tokens). Internet protocols,\\n     such as TCP/IP and APIs, have set good examples of achieving data interoperability. How-\\n     ever, value transfer has been an application-layer concern, and not a protocol-level concern\\n     in the traditional Internet context. With blockchain becoming the “Internet of Value”,24 en-\\n     suring the integrity of value transfer across different blockchains has become a problem to\\n     address at the foundation layer, and also needs to be considered at the blockchain network\\n     protocol level as well. In addition, there are attempts to create interoperability among dif-\\n     ferent blockchains at the middleware level, e.g., blockchain-agnostic smart contracts, e.g.\\n     DAML by Digital Asset Holdings, or Quant Network’s multi-blockchain DApps (MApps).\\n\\n\\n     23   \\x07Inclusive Deployment of Blockchain for Supply Chains: Part 6 – A Framework for Blockchain Interoperability:\\n          http://www3.weforum.org/docs/WEF_A_Framework_for_Blockchain_Interoperability_2020.pdf\\n     24   Ripple. 2019. “The Internet of Value: What It Means and How It Benefits Everyone.” October 25. Available at :\\n          \\x07\\n          https://ripple.com/insights/the-internet-of-value-what-it-means-and-how-it-benefits-everyone/.\\n\\n\\n     WBG ITS Technology & Innovation Lab\\n\\x0cBelow are some popular technical means for achieving blockchain interoperability:\\n\\n 1. Oracles and Notaries\\n Oracles and notaries are trusted agents between different blockchains, or between a\\n blockchain and the off-chain world. To achieve better resiliency and to increase trust, or-\\n acles can adopt a decentralized architecture in the same manner as Chainlink.\\n\\n In a notary scheme, one or more trusted nodes agree to carry out an action on chain B\\n when some event on chain A happens (Buterin, 2016). Trusted nodes are the key to no-\\n tary schemes. One important feature of the notary scheme is its atomicity, meaning that\\n a transaction needs to be all or nothing for all participants. The notary scheme has been\\n implemented in the Atomic mode of the Interledger Protocol25 , whereby an ad hoc group\\n of notaries are selected to support the execution of each payment by confirming the suc-\\n cess or failure of the payment.', metadata={'source': 'data/Blockchain.txt'})]"
      ]
     },
     "execution_count": 22,
     "metadata": {},
     "output_type": "execute_result"
    }
   ],
   "source": [
    "result['source_documents']"
   ]
  },
  {
   "cell_type": "code",
   "execution_count": null,
   "id": "149fc864-e7ec-4b7b-bbb1-e43094382723",
   "metadata": {},
   "outputs": [],
   "source": []
  }
 ],
 "metadata": {
  "kernelspec": {
   "display_name": "Python 3 (ipykernel)",
   "language": "python",
   "name": "python3"
  },
  "language_info": {
   "codemirror_mode": {
    "name": "ipython",
    "version": 3
   },
   "file_extension": ".py",
   "mimetype": "text/x-python",
   "name": "python",
   "nbconvert_exporter": "python",
   "pygments_lexer": "ipython3",
   "version": "3.10.10"
  }
 },
 "nbformat": 4,
 "nbformat_minor": 5
}
