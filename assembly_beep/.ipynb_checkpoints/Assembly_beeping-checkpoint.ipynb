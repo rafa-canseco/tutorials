{
 "cells": [
  {
   "cell_type": "code",
   "execution_count": 1,
   "id": "736aad85-da32-4ef7-a080-2fdece5a12fd",
   "metadata": {},
   "outputs": [
    {
     "name": "stdout",
     "output_type": "stream",
     "text": [
      "pyenv: no such command `virtualenv-init'\n",
      "Collecting assemblyai\n",
      "  Downloading assemblyai-0.18.0-py3-none-any.whl (64 kB)\n",
      "\u001b[2K     \u001b[38;2;114;156;31m━━━━━━━━━━━━━━━━━━━━━━━━━━━━━━━━━━━━━━━\u001b[0m \u001b[32m64.7/64.7 kB\u001b[0m \u001b[31m640.5 kB/s\u001b[0m eta \u001b[36m0:00:00\u001b[0m kB/s\u001b[0m eta \u001b[36m0:00:01\u001b[0m01\u001b[0m\n",
      "\u001b[?25hRequirement already satisfied: pydantic!=1.10.7,>=1.7.0 in /Users/rafacanseco/miniconda3/lib/python3.10/site-packages (from assemblyai) (1.10.9)\n",
      "Requirement already satisfied: typing-extensions>=3.7 in /Users/rafacanseco/miniconda3/lib/python3.10/site-packages (from assemblyai) (4.7.1)\n",
      "Collecting websockets>=11.0\n",
      "  Using cached websockets-11.0.3-cp310-cp310-macosx_11_0_arm64.whl (121 kB)\n",
      "Requirement already satisfied: httpx>=0.19.0 in /Users/rafacanseco/miniconda3/lib/python3.10/site-packages (from assemblyai) (0.23.3)\n",
      "Requirement already satisfied: certifi in /Users/rafacanseco/miniconda3/lib/python3.10/site-packages (from httpx>=0.19.0->assemblyai) (2022.12.7)\n",
      "Requirement already satisfied: httpcore<0.17.0,>=0.15.0 in /Users/rafacanseco/miniconda3/lib/python3.10/site-packages (from httpx>=0.19.0->assemblyai) (0.16.3)\n",
      "Requirement already satisfied: sniffio in /Users/rafacanseco/miniconda3/lib/python3.10/site-packages (from httpx>=0.19.0->assemblyai) (1.3.0)\n",
      "Requirement already satisfied: rfc3986[idna2008]<2,>=1.3 in /Users/rafacanseco/miniconda3/lib/python3.10/site-packages (from httpx>=0.19.0->assemblyai) (1.5.0)\n",
      "Requirement already satisfied: anyio<5.0,>=3.0 in /Users/rafacanseco/miniconda3/lib/python3.10/site-packages (from httpcore<0.17.0,>=0.15.0->httpx>=0.19.0->assemblyai) (3.7.1)\n",
      "Requirement already satisfied: h11<0.15,>=0.13 in /Users/rafacanseco/miniconda3/lib/python3.10/site-packages (from httpcore<0.17.0,>=0.15.0->httpx>=0.19.0->assemblyai) (0.14.0)\n",
      "Requirement already satisfied: idna in /Users/rafacanseco/miniconda3/lib/python3.10/site-packages (from rfc3986[idna2008]<2,>=1.3->httpx>=0.19.0->assemblyai) (3.4)\n",
      "Requirement already satisfied: exceptiongroup in /Users/rafacanseco/miniconda3/lib/python3.10/site-packages (from anyio<5.0,>=3.0->httpcore<0.17.0,>=0.15.0->httpx>=0.19.0->assemblyai) (1.1.3)\n",
      "Installing collected packages: websockets, assemblyai\n",
      "  Attempting uninstall: websockets\n",
      "    Found existing installation: websockets 10.4\n",
      "    Uninstalling websockets-10.4:\n",
      "      Successfully uninstalled websockets-10.4\n",
      "\u001b[31mERROR: pip's dependency resolver does not currently take into account all the packages that are installed. This behaviour is the source of the following dependency conflicts.\n",
      "realtime 1.0.0 requires websockets<11.0,>=10.3, but you have websockets 11.0.3 which is incompatible.\u001b[0m\u001b[31m\n",
      "\u001b[0mSuccessfully installed assemblyai-0.18.0 websockets-11.0.3\n",
      "Note: you may need to restart the kernel to use updated packages.\n"
     ]
    }
   ],
   "source": [
    "pip install assemblyai\n"
   ]
  },
  {
   "cell_type": "code",
   "execution_count": 1,
   "id": "e3ed5591-686a-4e3f-9204-229ec263bde9",
   "metadata": {},
   "outputs": [],
   "source": [
    "import assemblyai as aai"
   ]
  },
  {
   "cell_type": "code",
   "execution_count": 2,
   "id": "2e0d3270-d304-49ef-864e-4b4f1cb53ef9",
   "metadata": {},
   "outputs": [],
   "source": [
    "aai.settings.api_key = \"466c77732dc8473ba536311e90ec5449\""
   ]
  },
  {
   "cell_type": "code",
   "execution_count": null,
   "id": "e29ec2c3-2a52-4561-b703-2d91e18663c5",
   "metadata": {},
   "outputs": [],
   "source": []
  },
  {
   "cell_type": "code",
   "execution_count": null,
   "id": "086d1aa2-2426-4999-950f-c230748e2fe1",
   "metadata": {},
   "outputs": [],
   "source": [
    "transcript = aai.Transcriber.transcribe(\n",
    "    \"\",\n",
    "    config = aai.TranscriptionConfig(\n",
    "        redact_pii=True,"
   ]
  }
 ],
 "metadata": {
  "kernelspec": {
   "display_name": "Python 3 (ipykernel)",
   "language": "python",
   "name": "python3"
  },
  "language_info": {
   "codemirror_mode": {
    "name": "ipython",
    "version": 3
   },
   "file_extension": ".py",
   "mimetype": "text/x-python",
   "name": "python",
   "nbconvert_exporter": "python",
   "pygments_lexer": "ipython3",
   "version": "3.10.10"
  }
 },
 "nbformat": 4,
 "nbformat_minor": 5
}
