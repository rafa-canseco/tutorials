{
 "cells": [
  {
   "cell_type": "code",
   "execution_count": null,
   "id": "736aad85-da32-4ef7-a080-2fdece5a12fd",
   "metadata": {},
   "outputs": [],
   "source": [
    "pip install assemblyai"
   ]
  },
  {
   "cell_type": "code",
   "execution_count": 2,
   "id": "e3ed5591-686a-4e3f-9204-229ec263bde9",
   "metadata": {},
   "outputs": [],
   "source": [
    "import assemblyai as aai"
   ]
  },
  {
   "cell_type": "code",
   "execution_count": 3,
   "id": "2e0d3270-d304-49ef-864e-4b4f1cb53ef9",
   "metadata": {},
   "outputs": [],
   "source": [
    "aai.settings.api_key = \"...\""
   ]
  },
  {
   "cell_type": "markdown",
   "id": "166612ad-1fb3-4f1a-9631-ab9d0774f421",
   "metadata": {},
   "source": [
    "### Hash reemplaza el texto con un ### y entity_name con el nombre del valor sustituido\n",
    "redact_pii_sub=\"entity_name\",\n",
    "### para ver la lista completa de policies:\n",
    "https://www.assemblyai.com/docs/models/pii-redaction"
   ]
  },
  {
   "cell_type": "code",
   "execution_count": 4,
   "id": "086d1aa2-2426-4999-950f-c230748e2fe1",
   "metadata": {},
   "outputs": [],
   "source": [
    "transcript = aai.Transcriber().transcribe(\n",
    "    \"data/call_center.mp3\",\n",
    "    config = aai.TranscriptionConfig(\n",
    "        redact_pii=True,\n",
    "        redact_pii_sub=\"entity_name\",\n",
    "        redact_pii_audio=True,\n",
    "        redact_pii_policies=[\n",
    "            aai.PIIRedactionPolicy.credit_card_number,\n",
    "            aai.PIIRedactionPolicy.credit_card_expiration,\n",
    "            aai.PIIRedactionPolicy.credit_card_cvv,\n",
    "            aai.PIIRedactionPolicy.email_address,\n",
    "            aai.PIIRedactionPolicy.location,\n",
    "            aai.PIIRedactionPolicy.person_name,\n",
    "            aai.PIIRedactionPolicy.phone_number,\n",
    "            aai.PIIRedactionPolicy.banking_information,\n",
    "            \n",
    "        ]))"
   ]
  },
  {
   "cell_type": "code",
   "execution_count": 5,
   "id": "6dd4901f-c984-422f-a83c-69886db0df5d",
   "metadata": {},
   "outputs": [],
   "source": [
    "transcript.save_redacted_audio(\"redacted.mp3\")"
   ]
  },
  {
   "cell_type": "code",
   "execution_count": null,
   "id": "5880ba86-b028-4599-a7c4-156cf9be0dc1",
   "metadata": {},
   "outputs": [],
   "source": []
  }
 ],
 "metadata": {
  "kernelspec": {
   "display_name": "Python 3 (ipykernel)",
   "language": "python",
   "name": "python3"
  },
  "language_info": {
   "codemirror_mode": {
    "name": "ipython",
    "version": 3
   },
   "file_extension": ".py",
   "mimetype": "text/x-python",
   "name": "python",
   "nbconvert_exporter": "python",
   "pygments_lexer": "ipython3",
   "version": "3.10.10"
  }
 },
 "nbformat": 4,
 "nbformat_minor": 5
}
